{
 "cells": [
  {
   "cell_type": "code",
   "execution_count": 2,
   "metadata": {},
   "outputs": [
    {
     "name": "stdout",
     "output_type": "stream",
     "text": [
      "['b', 'c']\n",
      "['a', 'b', 'c', 'd']\n",
      "['d', 'e', 'f']\n",
      "['a', 'b', 'c', 'd', 'e', 'f']\n"
     ]
    }
   ],
   "source": [
    "#professora, cheguei às 7:20 em sala e perdi o início da instrução.\n",
    "\n",
    "#uma_lista = ['a','b','c','d','e','f']\n",
    "#queremos o print ( uma_lista [1:3])\n",
    "#queremos o print ( uma_lista [:4])\n",
    "#queremos o print ( uma_lista [3:])\n",
    "#queremos o print ( uma_lista [:])\n",
    "\n",
    "uma_lista = ['a','b','c','d','e','f']\n",
    "print ( uma_lista [1:3])\n",
    "print ( uma_lista [:4])\n",
    "print ( uma_lista [3:])\n",
    "print ( uma_lista [:])"
   ]
  },
  {
   "cell_type": "code",
   "execution_count": 3,
   "metadata": {},
   "outputs": [
    {
     "ename": "IndexError",
     "evalue": "list index out of range",
     "output_type": "error",
     "traceback": [
      "\u001b[1;31m---------------------------------------------------------------------------\u001b[0m",
      "\u001b[1;31mIndexError\u001b[0m                                Traceback (most recent call last)",
      "Cell \u001b[1;32mIn[3], line 6\u001b[0m\n\u001b[0;32m      4\u001b[0m b \u001b[38;5;241m=\u001b[39m a [:]\n\u001b[0;32m      5\u001b[0m b [\u001b[38;5;241m0\u001b[39m] \u001b[38;5;241m=\u001b[39m \u001b[38;5;241m5\u001b[39m\n\u001b[1;32m----> 6\u001b[0m \u001b[38;5;28mprint\u001b[39m (\u001b[43ma\u001b[49m\u001b[43m \u001b[49m\u001b[43m[\u001b[49m\u001b[38;5;241;43m3\u001b[39;49m\u001b[43m]\u001b[49m)\n",
      "\u001b[1;31mIndexError\u001b[0m: list index out of range"
     ]
    }
   ],
   "source": [
    "#o que será impresso na seguinte sequencia de comandos?\n",
    "\n",
    "a = [1,2,3]\n",
    "b = a [:]\n",
    "b [0] = 5\n",
    "print (a [3])"
   ]
  },
  {
   "cell_type": "code",
   "execution_count": 36,
   "metadata": {},
   "outputs": [
    {
     "name": "stdout",
     "output_type": "stream",
     "text": [
      "[76, 92.3, 'oi', True, 4, 76, 'pitomba', 76]\n",
      "[76, 92.3, 'oi', 'cibelle', True, 4, 76]\n",
      "[99, 76, 92.3, 'oi', True, 4, 76]\n",
      "indice 2 é oi\n",
      "[76, 92.3, 'oi', 4, 76]\n"
     ]
    }
   ],
   "source": [
    "#desafio - \n",
    "#criar uma lista chamada minhaLinha com os seguintes itens: (76, 92.3,\"oi\", True,4,76). depois execute os seguintes comandos:\n",
    "#inserir \"pitomba\" e 76 no final da lista\n",
    "#inserir o valor \"cibele\" na posição de índice 3.\n",
    "#inserir o valor 99 no início da lista.\n",
    "#Encontrar o índice de \"oi\".\n",
    "#remover True da lista\n",
    "\n",
    "#inserir \"pitomba\" e 76 no final da lista\n",
    "minhaLista = [76, 92.3,\"oi\", True,4,76]\n",
    "minhaLista_= minhaLista + [\"pitomba\",76]\n",
    "print (minhaLista_)\n",
    "\n",
    "#inserir o valor \"cibele\" na posição de índice 3.\n",
    "minhaLista_1 = [\"cibelle\"]\n",
    "print (minhaLista [:3] + minhaLista_1 + minhaLista [3:])\n",
    "\n",
    "#inserir o valor 99 no início da lista.\n",
    "print ([99] + minhaLista[:])\n",
    "\n",
    "#Encontrar o índice de \"oi\".\n",
    "\n",
    "if (minhaLista[0] == \"oi\"):\n",
    "    print(\"indice  zero é 'oi'\")\n",
    "elif (minhaLista[1] == \"oi\"):\n",
    "    print(\"indice 1 é oi\")\n",
    "elif (minhaLista[2] == \"oi\"):\n",
    "    print(\"indice 2 é oi\")\n",
    "elif (minhaLista[3] == \"oi\"):\n",
    "    print(\"indice 3 é oi\")\n",
    "elif (minhaLista[4] == \"oi\"):\n",
    "    print(\"indice 4 é oi\")\n",
    "elif (minhaLista[5] == \"oi\"):\n",
    "    print(\"indice 5 é oi\")\n",
    "elif (minhaLista[6] == \"oi\"):\n",
    "     print(\"indice 6 é oi\")\n",
    "elif (minhaLista[7] == \"oi\"):\n",
    "    print(\"indice 7 é oi\")\n",
    "elif (minhaLista[8] == \"oi\"):\n",
    "    print(\"indice 8 é oi\")\n",
    "else: \n",
    "    print(\"Nenhum elemento da lista é 'oi'\")\n",
    "    \n",
    "#remover True da lista\n",
    "print (minhaLista [:3] + minhaLista [4:])\n",
    "\n",
    "\n"
   ]
  }
 ],
 "metadata": {
  "kernelspec": {
   "display_name": "Python 3",
   "language": "python",
   "name": "python3"
  },
  "language_info": {
   "codemirror_mode": {
    "name": "ipython",
    "version": 3
   },
   "file_extension": ".py",
   "mimetype": "text/x-python",
   "name": "python",
   "nbconvert_exporter": "python",
   "pygments_lexer": "ipython3",
   "version": "3.11.9"
  }
 },
 "nbformat": 4,
 "nbformat_minor": 2
}
