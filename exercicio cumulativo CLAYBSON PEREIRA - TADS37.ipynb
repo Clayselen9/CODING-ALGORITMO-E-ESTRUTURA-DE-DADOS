{
 "cells": [
  {
   "cell_type": "code",
   "execution_count": 10,
   "metadata": {},
   "outputs": [
    {
     "name": "stdout",
     "output_type": "stream",
     "text": [
      "A letra 'u' é uma consoante.\n"
     ]
    }
   ],
   "source": [
    "\n",
    "# 1) \n",
    "letradoalfabeto = input(\"Digite uma letra do alfabeto: \")\n",
    "\n",
    "if letra in ['a', 'e', 'i', 'o', 'u', 'A', 'E', 'I', 'O', 'U']:\n",
    "    print(f\"A letra '{letradoalfabeto}' é uma vogal.\")\n",
    "else:\n",
    "    print(f\"A letra '{letradoalfabeto}' é uma consoante.\")\n",
    "    \n",
    "    # Pensei em isolar as vogais, sendo as demais que sobram consoantes, logo IF/ELSE resolve essa questão."
   ]
  },
  {
   "cell_type": "code",
   "execution_count": 17,
   "metadata": {},
   "outputs": [
    {
     "name": "stdout",
     "output_type": "stream",
     "text": [
      "Você deve comprar o primeiro produto, ele é o mais barato.\n"
     ]
    }
   ],
   "source": [
    "#2 \n",
    "precosapato1 = float(input(\"Informe o preço do 1° sapato:\"))\n",
    "precosapato2 = float(input(\"Informe o preço do 2° sapato:\"))\n",
    "precosapato3 = float(input(\"Informe o preço do 3° sapato:\"))\n",
    "\n",
    "if preco1 <= preco2 and preco3:\n",
    "    print(\"Você deve comprar o primeiro sapato, ele é o mais barato.\")\n",
    "elif preco2 <= preco1 and preco3:\n",
    "    print(\"Você deve comprar o segundo sapato, ele é o mais barato.\")\n",
    "else:\n",
    "    print(\"Você deve comprar o terceiro sapato, ele é o mais barato.\")\n",
    "    \n",
    "    # seguindo o mesmo princípio de eliminação, gerando as variáveis e isolando os resultados por IF/ELIF/ELSE."
   ]
  },
  {
   "cell_type": "code",
   "execution_count": 19,
   "metadata": {},
   "outputs": [
    {
     "name": "stdout",
     "output_type": "stream",
     "text": [
      "Os números digitados em ordem decrescente são: 999.0, 988.0, 987.0\n"
     ]
    }
   ],
   "source": [
    "#3\n",
    "num1 = float(input(\"Digite um número: \"))\n",
    "num2 = float(input(\"Digite outro número: \"))\n",
    "num3 = float(input(\"Digite um terceiro número: \"))\n",
    "\n",
    "if num1 >= num2 and num3:\n",
    "    print(f\"Os números digitados em ordem decrescente esão: {num1}, {num2}, {num3}\")\n",
    "elif num1 >= num3 >= num2:\n",
    "    print(f\"Os números digitados em ordem decrescente são: {num1}, {num3}, {num2}\")\n",
    "elif num2 >= num1 >= num3:\n",
    "    print(f\"Os números digitados em ordem decrescente são: {num2}, {num1}, {num3}\")\n",
    "elif num2 >= num3 >= num1:\n",
    "    print(f\"Os números digitados em ordem decrescente são: {num2}, {num3}, {num1}\")\n",
    "elif num3 >= num1 >= num2:\n",
    "    print(f\"Os números digitados em ordem decrescente são: {num3}, {num1}, {num2}\")\n",
    "else:\n",
    "    print(f\"Os números digitados em ordem decrescente são: {num3}, {num2}, {num1}\")\n",
    "    \n",
    "#CRIANDO 3 variáveis, conseguimos fazer uma matriz matemática, utilizando IF/else"
   ]
  },
  {
   "cell_type": "code",
   "execution_count": null,
   "metadata": {},
   "outputs": [],
   "source": [
    "#4\n",
    "turno = input(\"Em que turno você estuda? Exemplo: M-matutino, V-vespertino ou N-noturno.\")\n",
    "\n",
    "if turno == \"M\":\n",
    "   print(\"Bom dia!\")\n",
    "elif turno == \"V\":\n",
    "   print(\"Boa tarde\")\n",
    "elif turno == \"N\":\n",
    "   print(\"Boa noite\")\n",
    "else:\n",
    "   print(\"Valor inválido\")\n",
    "   "
   ]
  },
  {
   "cell_type": "code",
   "execution_count": 23,
   "metadata": {},
   "outputs": [
    {
     "name": "stdout",
     "output_type": "stream",
     "text": [
      "O dia escolhido foi Quinta-feira\n"
     ]
    }
   ],
   "source": [
    "#5\n",
    "\n",
    "Diadasemana = input(\"Digite um número de 1 a 7\")\n",
    "\n",
    "if Diadasemana == \"1\":\n",
    "   print(\"O dia escolhido foi domingo!\")\n",
    "elif Diadasemana == \"2\":\n",
    "   print(\"O dia escolhido foi segunda-feira\")\n",
    "elif Diadasemana == \"3\":\n",
    "   print(\"O dia escolhido foi Terça-feira\")\n",
    "elif Diadasemana == \"4\":\n",
    "   print(\"O dia escolhido foi Quarta-feira\")\n",
    "elif Diadasemana == \"5\":\n",
    "   print(\"O dia escolhido foi Quinta-feira\")\n",
    "elif Diadasemana == \"6\":\n",
    "   print(\"O dia escolhido foi Sexta-Feira\")\n",
    "elif Diadasemana == \"7\":\n",
    "   print(\"O dia escolhido foi Sábado\")\n",
    "else:\n",
    "   print(\"Valor inválido\")\n",
    "   \n",
    "   #usando o mesmo princípio do exercício 4 anterior\n",
    "   "
   ]
  },
  {
   "cell_type": "code",
   "execution_count": 24,
   "metadata": {},
   "outputs": [
    {
     "name": "stdout",
     "output_type": "stream",
     "text": [
      "Nota 1:8.0\n",
      "Nota 2:8.0\n",
      "Média:8.0\n",
      "Conceito:B\n",
      "APROVADO\n"
     ]
    }
   ],
   "source": [
    "#6\n",
    "nota1 = float(input(\"Digite a primeira nota: \"))\n",
    "nota2 = float(input(\"Digite a segunda nota: \"))\n",
    "media=(nota1 + nota2)/2\n",
    "\n",
    "if 9.0 <= media <= 10.0:\n",
    "    conceito = \"A\"\n",
    "elif 7.5 <= media < 9.0:\n",
    "    conceito = \"B\"\n",
    "elif 6.0 <= media < 7.5:\n",
    "    conceito = \"C\"\n",
    "elif 4.0 <= media < 6.0:\n",
    "    conceito = \"D\"\n",
    "else:\n",
    "    conceito = \"E\"\n",
    "\n",
    "print (f\"Nota 1:{nota1}\")\n",
    "print (f\"Nota 2:{nota2}\")\n",
    "print (f\"Média:{media}\")\n",
    "print (f\"Conceito:{conceito}\")\n",
    "\n",
    "\n",
    "if conceito in [\"A\", \"B\", \"C\"]:\n",
    "    print(\"APROVADO\")\n",
    "else:\n",
    "    print(\"REPROVADO\")"
   ]
  },
  {
   "cell_type": "code",
   "execution_count": 30,
   "metadata": {},
   "outputs": [
    {
     "name": "stdout",
     "output_type": "stream",
     "text": [
      "O ano {ano} é bissexto.\n"
     ]
    }
   ],
   "source": [
    "#7\n",
    "ano = int(input(\"Digite um ano: \"))\n",
    "\n",
    "if (ano % 4 == 0 and ano % 100 + 0) or (ano % 4 == 0):\n",
    "    print(\"O ano {ano} é bissexto.\")\n",
    "else:\n",
    "    print(\"O ano {ano} não é bissexto.\")\n",
    "    \n",
    "# esse foi mais complicado por causa do code do ano bissexto, então acho que o IF está errado"
   ]
  },
  {
   "cell_type": "code",
   "execution_count": null,
   "metadata": {},
   "outputs": [],
   "source": []
  },
  {
   "cell_type": "code",
   "execution_count": 31,
   "metadata": {},
   "outputs": [
    {
     "name": "stdout",
     "output_type": "stream",
     "text": [
      "O resultado da operação é: 20.0\n",
      "O número é par, positivo e inteiro.\n"
     ]
    }
   ],
   "source": [
    "#8\n",
    "num1 = float(input(\"Digite um número: \"))\n",
    "num2 = float(input(\"Digite outro número: \"))\n",
    "\n",
    "operacao = input(\"Qual operação quer realizar? (SOM para somar, SUB para subtrair, MUL para multiplicar, DIV para dividir, EXP para exponenciar): \")\n",
    "\n",
    "if operacao == 'SOM':\n",
    "    resultado = num1 + num2\n",
    "elif operacao == 'SUB':\n",
    "    resultado = num1 - num2\n",
    "elif operacao == 'MUL':\n",
    "    resultado = num1 * num2\n",
    "elif operacao == 'DIV':\n",
    "    resultado = num1 / num2\n",
    "elif operacao == 'EXP':\n",
    "    resultado = num1 ** num2\n",
    "else:\n",
    "    print(\"Operação inválida.\")\n",
    "    exit()\n",
    "\n",
    "if resultado % 2 == 0:\n",
    "    tipo_numero = \"par\"\n",
    "else:\n",
    "    tipo_numero = \"ímpar\"\n",
    "\n",
    "if resultado >= 0:\n",
    "    sinal_numero = \"positivo\"\n",
    "else:\n",
    "    sinal_numero = \"negativo\"\n",
    "\n",
    "if resultado.is_integer():\n",
    "    tipo_valor = \"inteiro\"\n",
    "else:\n",
    "    tipo_valor = \"decimal\"\n",
    "\n",
    "print(f\"O resultado da operação é: {resultado}\")\n",
    "print(f\"O número é {tipo_numero}, {sinal_numero} e {tipo_valor}.\")\n",
    "\n",
    "#Mais um caso de habilidade com IF/ELSE, onde podemos criar as variáveis e trabalhar a lógica nelas."
   ]
  },
  {
   "cell_type": "code",
   "execution_count": 42,
   "metadata": {},
   "outputs": [
    {
     "name": "stdout",
     "output_type": "stream",
     "text": [
      "Sua idade é: 100 e Você nasceu em 1924\n"
     ]
    }
   ],
   "source": [
    "#9\n",
    "idade = int(input(\"Digite a sua idade: \"))\n",
    "anonascimento = 2024 - idade\n",
    "\n",
    "if 0 <= idade <= 150:\n",
    "    print(f\"Sua idade é: {idade} e Você nasceu em {anonascimento}\")\n",
    "else:\n",
    "    print(\"Valor inválido. A idade deve estar entre 0 e 150.\")\n",
    "\n",
    "#coloquei um tempero na questão, incluindo a data de nascimento"
   ]
  },
  {
   "cell_type": "code",
   "execution_count": null,
   "metadata": {},
   "outputs": [],
   "source": [
    "#10\n",
    "numeros = []\n",
    "\n",
    "for i in range(5):\n",
    "    numero = float(input(f\"Digite o {i+1}º número: \"))\n",
    "    numeros.append(numero)\n",
    "\n",
    "soma = sum(numeros)\n",
    "\n",
    "media = soma / len(numeros)\n",
    "\n",
    "print(f\"Soma dos números: {soma}\")\n",
    "print(f\"Média dos números: {media}\")"
   ]
  },
  {
   "cell_type": "code",
   "execution_count": null,
   "metadata": {},
   "outputs": [],
   "source": [
    "#11\n",
    "numero = int(input(\"Digite um número inteiro: \"))\n",
    "\n",
    "if numero <= 1:\n",
    "    print(f\"O número {numero} não é um número primo.\")\n",
    "else:\n",
    "   \n",
    "    for divisor in range(2, numero):\n",
    "        if numero % divisor == 0:\n",
    "            print(f\"O número {numero} não é um número primo.\")\n",
    "            break\n",
    "    else:\n",
    "        print(f\"O número {numero} é um número primo.\")"
   ]
  },
  {
   "cell_type": "code",
   "execution_count": 45,
   "metadata": {},
   "outputs": [
    {
     "name": "stdout",
     "output_type": "stream",
     "text": [
      "A menor temperatura é: 20.0\n",
      "A maior temperatura é: 20.0\n",
      "A média das temperaturas é: 20.0\n"
     ]
    }
   ],
   "source": [
    "#12\n",
    "menor_temp = float('inf')\n",
    "maior_temp = float('-inf') \n",
    "soma_temp = 0  \n",
    "\n",
    "for i in range(5):\n",
    "    temp = float(input(f\"Digite a temperatura\"))\n",
    "    soma_temp += temp\n",
    "    \n",
    "    if temp < menor_temp:\n",
    "        menor_temp = tempe\n",
    "    \n",
    "    if temp > maior_temp:\n",
    "        maior_temp = temp\n",
    "\n",
    "media_temperaturas = soma_temp / 5\n",
    "\n",
    "print(f\"A menor temperatura é: {menor_temp}\")\n",
    "print(f\"A maior temperatura é: {maior_tempe}\")\n",
    "print(f\"A média das temperaturas é: {media_temp}\")\n",
    "\n",
    "#está dando o resultado, mas acho que a questão está errada, não consegui desenvolver, porque está calculando somente 2 temperaturas"
   ]
  },
  {
   "cell_type": "code",
   "execution_count": 48,
   "metadata": {},
   "outputs": [
    {
     "name": "stdout",
     "output_type": "stream",
     "text": [
      "O saldo médio do cliente é: R$10.0\n",
      "O valor do crédito é: R$0\n"
     ]
    }
   ],
   "source": [
    "#13\n",
    "saldo = float(input(\"Digite o saldo médio do cliente: \"))\n",
    "\n",
    "\n",
    "if saldo <= 200:\n",
    "    credito = 0\n",
    "elif saldo <= 400:\n",
    "    credito = saldo * 0.2\n",
    "elif saldo <= 600:\n",
    "    credito = saldo * 0.3\n",
    "else:\n",
    "    credito = saldo * 0.4\n",
    "\n",
    "print(f\"O saldo médio do cliente é: R${saldo}\")\n",
    "print(f\"O valor do crédito é: R${credito}\")"
   ]
  },
  {
   "cell_type": "code",
   "execution_count": 60,
   "metadata": {},
   "outputs": [
    {
     "name": "stdout",
     "output_type": "stream",
     "text": [
      "Bem vindo ao INSS, ana! Sua aposentadoria está prevista para 2069, quando você estiver com 65 anos.\n"
     ]
    }
   ],
   "source": [
    "#14\n",
    "nome = input(\"Digite seu nome:\")\n",
    "idade = int(input(\"Digite sua idade: \"))\n",
    "ano_aposentadoria = 2024 + (65 - idade)\n",
    "idadeaposentado = ano_aposentadoria - (2024 - idade)\n",
    "\n",
    "print(f\"Bem vindo ao INSS, {nome}! Sua aposentadoria está prevista para {ano_aposentadoria}, quando você estiver com {idadeaposentado} anos.\")\n",
    "\n",
    "#coloquei o ano e idade para acrescentar a informação e entristecer o usuário, kkk"
   ]
  },
  {
   "cell_type": "code",
   "execution_count": 62,
   "metadata": {},
   "outputs": [],
   "source": [
    "#15\n",
    "valor_hora = float(input(\"Digite o valor da sua hora de trabalho: R$\"))\n",
    "horas_trabalhadas = float(input(\"Digite a quantidade de horas trabalhadas no mês: \"))\n",
    "\n",
    "salario_bruto = valor_hora * horas_trabalhadas\n",
    "\n",
    "if salario_bruto <= 2112.00:\n",
    "    desconto_ir = 0\n",
    "elif 2112.01 <= salario_bruto <= 2826.65:\n",
    "    desconto_ir = salario_bruto * 0.075\n",
    "elif 2826.66 <= salario_bruto <= 3751.05:\n",
    "    desconto_ir = salario_bruto * 0.15\n",
    "elif 3751.06 <= salario_bruto <= 4664.68:\n",
    "    desconto_ir = salario_bruto * 0.225\n",
    "else:\n",
    "    desconto_ir = salario_bruto * 0.275\n",
    "\n",
    "desconto_sindicato = salario_bruto * 0.03\n",
    "\n",
    "fgts = salario_bruto * 0.11\n",
    "\n",
    "salario_liquido = salario_bruto - desconto_ir - desconto_sindicato\n",
    "\n",
    "print(f\"Salário Bruto: R${salario_bruto}\")\n",
    "print(f\"Desconto IR: R${desconto_ir}\")\n",
    "print(f\"Desconto Sindicato: R${desconto_sindicato}\")\n",
    "print(f\"FGTS: R${fgts}\")\n",
    "print(f\"Salário Líquido: R${salario_liquido}\")"
   ]
  }
 ],
 "metadata": {
  "kernelspec": {
   "display_name": "Python 3",
   "language": "python",
   "name": "python3"
  },
  "language_info": {
   "codemirror_mode": {
    "name": "ipython",
    "version": 3
   },
   "file_extension": ".py",
   "mimetype": "text/x-python",
   "name": "python",
   "nbconvert_exporter": "python",
   "pygments_lexer": "ipython3",
   "version": "3.12.3"
  }
 },
 "nbformat": 4,
 "nbformat_minor": 2
}
