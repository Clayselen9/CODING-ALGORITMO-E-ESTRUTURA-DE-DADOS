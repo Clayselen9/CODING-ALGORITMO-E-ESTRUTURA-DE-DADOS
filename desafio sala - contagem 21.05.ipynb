{
 "cells": [
  {
   "cell_type": "code",
   "execution_count": 15,
   "metadata": {},
   "outputs": [
    {
     "name": "stdout",
     "output_type": "stream",
     "text": [
      "5 patinhos foram passear, além das montanhas para brincar, a mamãe gritou'quá, quá, quá, quá, mas só 4  patinhos voltaram de lá\n",
      "4 patinhos foram passear, além das montanhas para brincar, a mamãe gritou'quá, quá, quá, quá, mas só 3  patinhos voltaram de lá\n",
      "3 patinhos foram passear, além das montanhas para brincar, a mamãe gritou'quá, quá, quá, quá, mas só 2  patinhos voltaram de lá\n",
      "2 patinhos foram passear, além das montanhas para brincar, a mamãe gritou'quá, quá, quá, quá, mas só 1  patinhos voltaram de lá\n",
      "1 patinhos foram passear, além das montanhas para brincar, a mamãe gritou'quá, quá, quá, quá, mas só 0  patinhos voltaram de lá\n"
     ]
    }
   ],
   "source": [
    "p = 5\n",
    "for _ in range (p, 0, -1):\n",
    "    print(_, \"patinhos foram passear,\"\n",
    "          \" além das montanhas para brincar,\"\n",
    "          \" a mamãe gritou'quá, quá, quá, quá,\"\n",
    "          \" mas só\", _ -1, \" patinhos voltaram de lá\")"
   ]
  },
  {
   "cell_type": "code",
   "execution_count": 4,
   "metadata": {},
   "outputs": [
    {
     "name": "stdout",
     "output_type": "stream",
     "text": [
      "mariana conta 1, Mariana conta 1, é 1, é 1, é Ana, viva mariana, viva mariana\n",
      "Mariana conta 2, Mariana conta 2, é [1, 2] é Ana, viva mariana, viva mariana\n",
      "Mariana conta 3, Mariana conta 3, é [1, 2, 3] é Ana, viva mariana, viva mariana\n",
      "Mariana conta 4, Mariana conta 4, é [1, 2, 3, 4] é Ana, viva mariana, viva mariana\n",
      "Mariana conta 5, Mariana conta 5, é [1, 2, 3, 4, 5] é Ana, viva mariana, viva mariana\n",
      "Mariana conta 6, Mariana conta 6, é [1, 2, 3, 4, 5, 6] é Ana, viva mariana, viva mariana\n",
      "Mariana conta 7, Mariana conta 7, é [1, 2, 3, 4, 5, 6, 7] é Ana, viva mariana, viva mariana\n",
      "Mariana conta 8, Mariana conta 8, é [1, 2, 3, 4, 5, 6, 7, 8] é Ana, viva mariana, viva mariana\n",
      "Mariana conta 9, Mariana conta 9, é [1, 2, 3, 4, 5, 6, 7, 8, 9] é Ana, viva mariana, viva mariana\n",
      "Mariana conta 10, Mariana conta 10, é [1, 2, 3, 4, 5, 6, 7, 8, 9, 10] é Ana, viva mariana, viva mariana\n"
     ]
    }
   ],
   "source": [
    "num = [1,2,3,4,5,6,7,8,9,10]\n",
    "i = 1\n",
    "for i in num:\n",
    "    if i == 1:\n",
    "        print(\"mariana conta 1, Mariana conta 1, é 1, é 1, é Ana, viva mariana, viva mariana\")\n",
    "    else:\n",
    "        print(f'Mariana conta {i}, Mariana conta {i}, é', num[0:i], 'é Ana, viva mariana, viva mariana')\n",
    "        # não consegui colocar o código para rodar\n"
   ]
  },
  {
   "cell_type": "code",
   "execution_count": 2,
   "metadata": {},
   "outputs": [
    {
     "name": "stdout",
     "output_type": "stream",
     "text": [
      "1 elefante incomoda muita gente!\n",
      "2 elefantes\n",
      "incomodam\n",
      "incomodam\n",
      "Muito mais!\n",
      "3 elefantes incomodam muita gente!\n",
      "4 elefantes\n",
      "incomodam\n",
      "incomodam\n",
      "incomodam\n",
      "incomodam\n",
      "Muito mais!\n",
      "5 elefantes incomodam muita gente!\n",
      "6 elefantes\n",
      "incomodam\n",
      "incomodam\n",
      "incomodam\n",
      "incomodam\n",
      "incomodam\n",
      "incomodam\n",
      "Muito mais!\n",
      "7 elefantes incomodam muita gente!\n",
      "8 elefantes\n",
      "incomodam\n",
      "incomodam\n",
      "incomodam\n",
      "incomodam\n",
      "incomodam\n",
      "incomodam\n",
      "incomodam\n",
      "incomodam\n",
      "Muito mais!\n",
      "9 elefantes incomodam muita gente!\n",
      "10 elefantes\n",
      "incomodam\n",
      "incomodam\n",
      "incomodam\n",
      "incomodam\n",
      "incomodam\n",
      "incomodam\n",
      "incomodam\n",
      "incomodam\n",
      "incomodam\n",
      "incomodam\n",
      "Muito mais!\n",
      "11 elefantes incomodam muita gente!\n"
     ]
    }
   ],
   "source": [
    "lista = [2,4,6,8,10]\n",
    " \n",
    "print(\"1 elefante incomoda muita gente!\")\n",
    "for num in lista:\n",
    "    print(f\"{num} elefantes\")\n",
    "    for i in range(1, num + 1):\n",
    "        print(\"incomodam\")\n",
    "    print(\"Muito mais!\")\n",
    "    prox = num + 1\n",
    "    print(f\"{prox} elefantes incomodam muita gente!\")"
   ]
  }
 ],
 "metadata": {
  "kernelspec": {
   "display_name": "Python 3",
   "language": "python",
   "name": "python3"
  },
  "language_info": {
   "codemirror_mode": {
    "name": "ipython",
    "version": 3
   },
   "file_extension": ".py",
   "mimetype": "text/x-python",
   "name": "python",
   "nbconvert_exporter": "python",
   "pygments_lexer": "ipython3",
   "version": "3.12.3"
  }
 },
 "nbformat": 4,
 "nbformat_minor": 2
}
