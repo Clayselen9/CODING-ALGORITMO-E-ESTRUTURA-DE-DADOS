{
 "cells": [
  {
   "cell_type": "code",
   "execution_count": 15,
   "metadata": {},
   "outputs": [
    {
     "name": "stdout",
     "output_type": "stream",
     "text": [
      "5 patinhos foram passear, além das montanhas para brincar, a mamãe gritou'quá, quá, quá, quá, mas só 4  patinhos voltaram de lá\n",
      "4 patinhos foram passear, além das montanhas para brincar, a mamãe gritou'quá, quá, quá, quá, mas só 3  patinhos voltaram de lá\n",
      "3 patinhos foram passear, além das montanhas para brincar, a mamãe gritou'quá, quá, quá, quá, mas só 2  patinhos voltaram de lá\n",
      "2 patinhos foram passear, além das montanhas para brincar, a mamãe gritou'quá, quá, quá, quá, mas só 1  patinhos voltaram de lá\n",
      "1 patinhos foram passear, além das montanhas para brincar, a mamãe gritou'quá, quá, quá, quá, mas só 0  patinhos voltaram de lá\n"
     ]
    }
   ],
   "source": [
    "p = 5\n",
    "for _ in range (p, 0, -1):\n",
    "    print(_, \"patinhos foram passear,\"\n",
    "          \" além das montanhas para brincar,\"\n",
    "          \" a mamãe gritou'quá, quá, quá, quá,\"\n",
    "          \" mas só\", _ -1, \" patinhos voltaram de lá\")"
   ]
  },
  {
   "cell_type": "code",
   "execution_count": 1,
   "metadata": {},
   "outputs": [
    {
     "name": "stdout",
     "output_type": "stream",
     "text": [
      "mariana conta 1, Mariana conta 1, é 1 é 1, é Ana, viva mariana, viva mariana\n"
     ]
    },
    {
     "ename": "NameError",
     "evalue": "name 'num' is not defined",
     "output_type": "error",
     "traceback": [
      "\u001b[1;31m---------------------------------------------------------------------------\u001b[0m",
      "\u001b[1;31mNameError\u001b[0m                                 Traceback (most recent call last)",
      "\u001b[1;32mc:\\Users\\Claybson\\Downloads\\desafio sala - contagem 21.05.ipynb Célula 2\u001b[0m line \u001b[0;36m7\n\u001b[0;32m      <a href='vscode-notebook-cell:/c%3A/Users/Claybson/Downloads/desafio%20sala%20-%20contagem%2021.05.ipynb#W2sZmlsZQ%3D%3D?line=4'>5</a>\u001b[0m     \u001b[39mprint\u001b[39m(\u001b[39m\"\u001b[39m\u001b[39mmariana conta 1, Mariana conta 1, é 1 é 1, é Ana, viva mariana, viva mariana\u001b[39m\u001b[39m\"\u001b[39m)\n\u001b[0;32m      <a href='vscode-notebook-cell:/c%3A/Users/Claybson/Downloads/desafio%20sala%20-%20contagem%2021.05.ipynb#W2sZmlsZQ%3D%3D?line=5'>6</a>\u001b[0m \u001b[39melse\u001b[39;00m:\n\u001b[1;32m----> <a href='vscode-notebook-cell:/c%3A/Users/Claybson/Downloads/desafio%20sala%20-%20contagem%2021.05.ipynb#W2sZmlsZQ%3D%3D?line=6'>7</a>\u001b[0m     \u001b[39mprint\u001b[39m(\u001b[39mf\u001b[39m\u001b[39m'\u001b[39m\u001b[39mMariana conta \u001b[39m\u001b[39m{\u001b[39;00mi\u001b[39m}\u001b[39;00m\u001b[39m, Mariana conta \u001b[39m\u001b[39m{\u001b[39;00mi\u001b[39m}\u001b[39;00m\u001b[39m, é\u001b[39m\u001b[39m'\u001b[39m, num[\u001b[39m0\u001b[39m:i], \u001b[39m'\u001b[39m\u001b[39mé Ana, viva mariana, viva mariana\u001b[39m\u001b[39m'\u001b[39m)\n\u001b[0;32m      <a href='vscode-notebook-cell:/c%3A/Users/Claybson/Downloads/desafio%20sala%20-%20contagem%2021.05.ipynb#W2sZmlsZQ%3D%3D?line=7'>8</a>\u001b[0m     \u001b[39m#não consegui \u001b[39;00m\n",
      "\u001b[1;31mNameError\u001b[0m: name 'num' is not defined"
     ]
    }
   ],
   "source": [
    "seq  = [1,2,3,4,5,6,7,8,9,10]\n",
    "i = 1\n",
    "for i in seq:\n",
    "    if i == 1:\n",
    "        print(\"mariana conta 1, Mariana conta 1, é 1 é 1, é Ana, viva mariana, viva mariana\")\n",
    "    else:\n",
    "        print(f'Mariana conta {i}, Mariana conta {i}, é', num[0:i], 'é Ana, viva mariana, viva mariana')\n",
    "        # não consegui colocar o código para rodar\n"
   ]
  },
  {
   "cell_type": "code",
   "execution_count": 2,
   "metadata": {},
   "outputs": [
    {
     "name": "stdout",
     "output_type": "stream",
     "text": [
      "1 elefante incomoda muita gente!\n",
      "2 elefantes\n",
      "incomodam\n",
      "incomodam\n",
      "Muito mais!\n",
      "3 elefantes incomodam muita gente!\n",
      "4 elefantes\n",
      "incomodam\n",
      "incomodam\n",
      "incomodam\n",
      "incomodam\n",
      "Muito mais!\n",
      "5 elefantes incomodam muita gente!\n",
      "6 elefantes\n",
      "incomodam\n",
      "incomodam\n",
      "incomodam\n",
      "incomodam\n",
      "incomodam\n",
      "incomodam\n",
      "Muito mais!\n",
      "7 elefantes incomodam muita gente!\n",
      "8 elefantes\n",
      "incomodam\n",
      "incomodam\n",
      "incomodam\n",
      "incomodam\n",
      "incomodam\n",
      "incomodam\n",
      "incomodam\n",
      "incomodam\n",
      "Muito mais!\n",
      "9 elefantes incomodam muita gente!\n",
      "10 elefantes\n",
      "incomodam\n",
      "incomodam\n",
      "incomodam\n",
      "incomodam\n",
      "incomodam\n",
      "incomodam\n",
      "incomodam\n",
      "incomodam\n",
      "incomodam\n",
      "incomodam\n",
      "Muito mais!\n",
      "11 elefantes incomodam muita gente!\n"
     ]
    }
   ],
   "source": [
    "lista = [2,4,6,8,10]\n",
    " \n",
    "print(\"1 elefante incomoda muita gente!\")\n",
    "for num in lista:\n",
    "    print(f\"{num} elefantes\")\n",
    "    for i in range(1, num + 1):\n",
    "        print(\"incomodam\")\n",
    "    print(\"Muito mais!\")\n",
    "    prox = num + 1\n",
    "    print(f\"{prox} elefantes incomodam muita gente!\")"
   ]
  }
 ],
 "metadata": {
  "kernelspec": {
   "display_name": "Python 3",
   "language": "python",
   "name": "python3"
  },
  "language_info": {
   "codemirror_mode": {
    "name": "ipython",
    "version": 3
   },
   "file_extension": ".py",
   "mimetype": "text/x-python",
   "name": "python",
   "nbconvert_exporter": "python",
   "pygments_lexer": "ipython3",
   "version": "3.12.3"
  }
 },
 "nbformat": 4,
 "nbformat_minor": 2
}
