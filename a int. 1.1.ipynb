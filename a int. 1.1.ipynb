{
 "cells": [
  {
   "cell_type": "code",
   "execution_count": 9,
   "metadata": {},
   "outputs": [],
   "source": [
    "nome=input(\"digite seu nome\")"
   ]
  },
  {
   "cell_type": "code",
   "execution_count": 2,
   "metadata": {},
   "outputs": [],
   "source": [
    "idade= input (\"digite sua idade\")\n",
    " "
   ]
  },
  {
   "cell_type": "code",
   "execution_count": 5,
   "metadata": {},
   "outputs": [],
   "source": [
    "curso=input ( \"seu curso é:\")"
   ]
  },
  {
   "cell_type": "code",
   "execution_count": 7,
   "metadata": {},
   "outputs": [],
   "source": [
    "#valor1 = input('Digite um número inteiro: ')\n",
    "#valor2 - input( 'Digite outro número inteiro: ')\n",
    "#print (valor1 == valor2)\n",
    "#print (valor1 > valor2)\n",
    "#print (valor1 < valor2)\n",
    "#print (valor1 >= valor2)\n",
    "#print (valor1 <=valor2)\n"
   ]
  },
  {
   "cell_type": "code",
   "execution_count": 15,
   "metadata": {},
   "outputs": [
    {
     "name": "stdout",
     "output_type": "stream",
     "text": [
      "camila 37 ADS\n"
     ]
    }
   ],
   "source": [
    "print(nome, idade,curso)"
   ]
  },
  {
   "cell_type": "code",
   "execution_count": 22,
   "metadata": {},
   "outputs": [
    {
     "name": "stdout",
     "output_type": "stream",
     "text": [
      "Olá, camila ,sua idade é 37  e seu curso é ADS\n"
     ]
    }
   ],
   "source": [
    "print( \"Olá,\" ,nome,\",sua idade é\", idade , \" e seu curso é\" , curso )"
   ]
  },
  {
   "cell_type": "code",
   "execution_count": 24,
   "metadata": {},
   "outputs": [],
   "source": [
    "#if ( ):\n",
    "#print  ( )\n",
    "#else:\n",
    "#print ( )\n"
   ]
  },
  {
   "cell_type": "code",
   "execution_count": 25,
   "metadata": {},
   "outputs": [],
   "source": [
    "# solicitar um número inteiro e avaliar se o número é par ou ímpar\n"
   ]
  },
  {
   "cell_type": "code",
   "execution_count": 33,
   "metadata": {},
   "outputs": [
    {
     "name": "stdout",
     "output_type": "stream",
     "text": [
      "numero é impar.\n"
     ]
    }
   ],
   "source": [
    "numero=int(input(\"Digite um número inteiro:\"))\n",
    "# avaliar se é par ou impar\n",
    "# != diferente\n",
    " \n",
    "if (numero % 2 ==0 ):\n",
    "    print ( \"numero par.\")\n",
    "\n",
    "else:\n",
    "    print ( \"numero é impar.\")"
   ]
  },
  {
   "cell_type": "code",
   "execution_count": 35,
   "metadata": {},
   "outputs": [],
   "source": [
    "#utilizando input, vamos armazenar o valor digitado pelo usuario:\n",
    "#cupom = input ('digite o cupom:')\n",
    "#agora vamos usar operadores condicionais e desvio condicional:\n",
    "#if (cupom == 'aula1' or cupom == 'aula2')\n",
    "#print('voce ganhou 10% de desconto')\n",
    "\n"
   ]
  }
 ],
 "metadata": {
  "kernelspec": {
   "display_name": "Python 3",
   "language": "python",
   "name": "python3"
  },
  "language_info": {
   "codemirror_mode": {
    "name": "ipython",
    "version": 3
   },
   "file_extension": ".py",
   "mimetype": "text/x-python",
   "name": "python",
   "nbconvert_exporter": "python",
   "pygments_lexer": "ipython3",
   "version": "3.11.8"
  }
 },
 "nbformat": 4,
 "nbformat_minor": 2
}
